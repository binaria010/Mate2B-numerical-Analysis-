{
  "nbformat": 4,
  "nbformat_minor": 0,
  "metadata": {
    "colab": {
      "provenance": [],
      "toc_visible": true
    },
    "kernelspec": {
      "name": "python3",
      "display_name": "Python 3"
    },
    "language_info": {
      "name": "python"
    }
  },
  "cells": [
    {
      "cell_type": "markdown",
      "metadata": {
        "id": "B1ojI5npZPgH"
      },
      "source": [
        "## Práctica 2: Ecuaciones no lineales.\n",
        "\n",
        "\n",
        "\n",
        "\n",
        "1. Bisección\n",
        "2. Secante\n",
        "3. Regula \n",
        "4. Newton Raphson\n",
        "5. Punto fijo"
      ]
    },
    {
      "cell_type": "markdown",
      "metadata": {
        "id": "xXCAf-yEZPgK"
      },
      "source": [
        "# Método de bisección, Newton y secante.\n"
      ]
    },
    {
      "cell_type": "markdown",
      "source": [
        "### Bisección\n",
        "\n",
        "\n",
        "1. Implementar un programa que reciba como input una función $f$, dos números $a, b$, un número de iteraciones $n$ y aplique el método de bisección para aproximar una raíz de $f$ en el intervalo $[a, b]$, devolviendo la última iteración."
      ],
      "metadata": {
        "id": "Bco3_QPDa_Uy"
      }
    },
    {
      "cell_type": "code",
      "execution_count": 14,
      "metadata": {
        "id": "yM22GPXIZPgL"
      },
      "outputs": [],
      "source": [
        "import numpy as np\n",
        "import matplotlib.pyplot as plt"
      ]
    },
    {
      "cell_type": "code",
      "source": [
        "def bisect_N(f, a, b, N):\n",
        "    \"\"\"\n",
        "    This function approximates the root of f using bisection method\n",
        "    \n",
        "    parameters\n",
        "    ----------\n",
        "    f : function object\n",
        "    a : float. left limit of the interval\n",
        "    b : float. right limit of the interval\n",
        "    tol: float. tolerance of the size of the subinterval\n",
        "    N : int. number of iterations to find the root\n",
        "    \n",
        "    returns\n",
        "    --------\n",
        "    p : float. Root of f\n",
        "    \n",
        "    \"\"\"\n",
        "    i = 1\n",
        "    fa = f(a)\n",
        "    \n",
        "    while i <= N:\n",
        "        \n",
        "        p = a + (b-a)/2\n",
        "        fp = f(p)\n",
        "               \n",
        "        if fp == 0:\n",
        "            return i,p\n",
        "            break\n",
        "        \n",
        "        i = i + 1\n",
        "        \n",
        "        if fa*fp > 0 :\n",
        "            a = p\n",
        "            fa = fp\n",
        "        else: \n",
        "            b = p\n",
        "    return p\n",
        "    #if i > N :\n",
        "        #print('method failed after N =  ' + str(N) + ' iterations')"
      ],
      "metadata": {
        "id": "KMUZGyIjPiWt"
      },
      "execution_count": 15,
      "outputs": []
    },
    {
      "cell_type": "code",
      "source": [
        "# ejemplo facil\n",
        "f = lambda x: x**2 - 1\n",
        "N = 60\n",
        "a = 0\n",
        "b = 3\n",
        "\n",
        "bisect_N(f,a, b,  N)"
      ],
      "metadata": {
        "colab": {
          "base_uri": "https://localhost:8080/"
        },
        "id": "XrsUGFFtP5bl",
        "outputId": "2f5f35dd-d1f6-42d8-edba-48900ffe93b9"
      },
      "execution_count": 16,
      "outputs": [
        {
          "output_type": "execute_result",
          "data": {
            "text/plain": [
              "(53, 1.0)"
            ]
          },
          "metadata": {},
          "execution_count": 16
        }
      ]
    },
    {
      "cell_type": "markdown",
      "source": [
        "2. Modificar el programa del ejercio anterior de manera que en vez de una cantidad de iteraciones $n$, reciba una tolerancia tol de manera que el programa frene cuando $\\left|b_{n}-a_{n}\\right|<t o l$.\n"
      ],
      "metadata": {
        "id": "4fim9Qe-TdF-"
      }
    },
    {
      "cell_type": "code",
      "execution_count": 17,
      "metadata": {
        "id": "OCHp_YpJZPgM"
      },
      "outputs": [],
      "source": [
        "def bisect(f, a, b, tol):\n",
        "    \"\"\"\n",
        "    This function approximates the root of f using bisection method\n",
        "    \n",
        "    parameters\n",
        "    ----------\n",
        "    f : function object\n",
        "    a : float. left limit of the interval\n",
        "    b : float. right limit of the interval\n",
        "    tol: float. tolerance of the size of the subinterval\n",
        "    N : int. number of iterations to find the root\n",
        "    \n",
        "    returns\n",
        "    --------\n",
        "    p : float. Root of f\n",
        "    \n",
        "    \"\"\"\n",
        "    i = 1\n",
        "    fa = f(a)\n",
        "    \n",
        "    while (b-a)/2 > tol:\n",
        "        \n",
        "        p = a + (b-a)/2\n",
        "        fp = f(p)\n",
        "               \n",
        "        if fp == 0:\n",
        "            return i,p\n",
        "            break\n",
        "        \n",
        "        i = i + 1\n",
        "        \n",
        "        if fa*fp > 0 :\n",
        "            a = p\n",
        "            fa = fp\n",
        "        else: \n",
        "            b = p\n",
        "    return i, p\n",
        "    #if i > N :\n",
        "        #print('method failed after N =  ' + str(N) + ' iterations')"
      ]
    },
    {
      "cell_type": "code",
      "execution_count": 18,
      "metadata": {
        "id": "Tc1ViKIdZPgM",
        "outputId": "a1d61845-b941-4bfd-c2bf-ef3355326b06",
        "colab": {
          "base_uri": "https://localhost:8080/"
        }
      },
      "outputs": [
        {
          "output_type": "execute_result",
          "data": {
            "text/plain": [
              "(15, 0.99993896484375)"
            ]
          },
          "metadata": {},
          "execution_count": 18
        }
      ],
      "source": [
        "# ejemplo facil\n",
        "f = lambda x: x**2 - 1\n",
        "a = 0\n",
        "b = 3\n",
        "tol = 1e-4\n",
        "\n",
        "bisect(f,a, b, tol)"
      ]
    },
    {
      "cell_type": "markdown",
      "source": [
        "3. Determinar una función $f$ y números reales a y $b$ para obtener un valor aproximado de $\\sqrt[3]{5}$ usando el método de bisección. ¿Cuántos pasos son necesarios para asegurar que el error es menor que $10^{-10}$ ? Hacer un programa para hallar el valor de dicha aproximación.\n",
        "\n",
        "\n",
        "La función es: $f(x)=x^3-5$ y buscamos por el método de bisección la solución de $f(x)=0$ en el intervalo $[1,2]$ pues dado que $f$ cambia de signo en dicho intervalo, por TVI $f$ tiene al menos una raís en $[1,2]$. \n",
        "\n",
        "Por otra parte $f'(x) = 3x^2\\geq0$ para todo $x\\in \\mathbb{R}$, luego $f$ es creciente, y lo es estrictamente en $[1,2]$ luego la raíz es única."
      ],
      "metadata": {
        "id": "xqN7FnpWXz7b"
      }
    },
    {
      "cell_type": "code",
      "source": [
        "f = lambda x: x**3 -5\n",
        "a = 1\n",
        "b = 2\n",
        "tol = 1e-10\n",
        "\n",
        "print(\"usando nuestra funcion : \")\n",
        "print(bisect(f, a, b, tol) )\n",
        "print(\"usando python: \" ,5**(1/3))"
      ],
      "metadata": {
        "colab": {
          "base_uri": "https://localhost:8080/"
        },
        "id": "_ScG2VWYYt4U",
        "outputId": "c8a54644-0714-440b-f896-8e45fc1ee32b"
      },
      "execution_count": 19,
      "outputs": [
        {
          "output_type": "stream",
          "name": "stdout",
          "text": [
            "usando nuestra funcion : \n",
            "(34, 1.7099759465781972)\n",
            "usando python:  1.7099759466766968\n"
          ]
        }
      ]
    },
    {
      "cell_type": "markdown",
      "source": [
        "4. Elegir un intervalo apropiado y utilizar el método de bisección para calcular una raíz de la ecuación:\n",
        "$$\n",
        "x+0.5=\\tan (x)\n",
        "$$\n",
        "\n",
        "El intervalo que elegimos es $[0,1]$ pues $f(0) = -1/2$ y $f(1)=0.057$. La solución hallada es única en el intervalo $[-\\pi/2,\\pi/2]$, pero por la periodicidad de $\\tan(x)$ es probable que tenga infinitas raíces."
      ],
      "metadata": {
        "id": "T0h6Jxtkjnz0"
      }
    },
    {
      "cell_type": "code",
      "source": [
        "f = lambda x: np.sin(x)/np.cos(x) - x - 0.5\n",
        "a = 0\n",
        "b = 1\n",
        "tol = 1e-5 \n",
        "\n",
        "bisect(f, a, b, tol)"
      ],
      "metadata": {
        "colab": {
          "base_uri": "https://localhost:8080/"
        },
        "id": "U7oeanPOoBZL",
        "outputId": "88d5ce50-58ec-44f6-857f-235468b3e4e5"
      },
      "execution_count": 20,
      "outputs": [
        {
          "output_type": "execute_result",
          "data": {
            "text/plain": [
              "(17, 0.9750213623046875)"
            ]
          },
          "metadata": {},
          "execution_count": 20
        }
      ]
    },
    {
      "cell_type": "markdown",
      "metadata": {
        "id": "4ge1-8Q9ZPgO"
      },
      "source": [
        " Ejercicio 5:\n",
        "hallar una aproximacion de $^3\\sqrt{2}$. "
      ]
    },
    {
      "cell_type": "code",
      "execution_count": 21,
      "metadata": {
        "id": "X1u92HJiZPgO",
        "outputId": "24127dac-2ec4-48a3-f8b5-a0464db32118",
        "colab": {
          "base_uri": "https://localhost:8080/"
        }
      },
      "outputs": [
        {
          "output_type": "stream",
          "name": "stdout",
          "text": [
            "with bisect function we obtain:  (17, 1.2599334716796875)\n",
            "the value computed with python is  1.2599210498948732\n"
          ]
        }
      ],
      "source": [
        "f = lambda x : x**3 - 2\n",
        "a = 1\n",
        "b = 2\n",
        "tol = 1e-5\n",
        "N = 20\n",
        "print('with bisect function we obtain: ', bisect(f, a, b, tol))\n",
        "print('the value computed with python is ', 2**(1/3))"
      ]
    },
    {
      "cell_type": "markdown",
      "metadata": {
        "id": "D-Q69FacZPgP"
      },
      "source": [
        "cuantos pasos para garantizar que el error sea menor que $10^{-5}$?\n",
        "\n",
        "el error en este metodo satisfce que \n",
        "$$\n",
        "|p_n -p| \\leq \\frac{b-a}{2^n}\n",
        "$$\n",
        "busco $n$ tal que $\\frac{2-1}{2^n}\\leq 10^{-5}$:\n",
        "\n",
        "$$\n",
        "\\log(2)*n \\geq \\log(10^{5})\n",
        "$$\n",
        "\n",
        "entonces $n\\geq \\frac{5}{\\log_{10}(2)} \\approx 16.609640474436812$"
      ]
    },
    {
      "cell_type": "code",
      "execution_count": 22,
      "metadata": {
        "id": "XNVhfTFxZPgP",
        "outputId": "1f078984-d6f4-41fa-8277-5402cabd6c07",
        "colab": {
          "base_uri": "https://localhost:8080/"
        }
      },
      "outputs": [
        {
          "output_type": "stream",
          "name": "stdout",
          "text": [
            "real value is: 1.365234375\n"
          ]
        },
        {
          "output_type": "execute_result",
          "data": {
            "text/plain": [
              "(20, 1.3652286529541016)"
            ]
          },
          "metadata": {},
          "execution_count": 22
        }
      ],
      "source": [
        "## other example:\n",
        "f = lambda x : x**3 + 4*x**2 -10\n",
        "a = 1\n",
        "b = 2\n",
        "tol = 1e-6\n",
        "N = 20\n",
        "print('real value is: 1.365234375')\n",
        "bisect(f, a, b, tol)"
      ]
    },
    {
      "cell_type": "markdown",
      "metadata": {
        "id": "8sjK_001ZPgQ"
      },
      "source": [
        "### Newton Raphson:"
      ]
    },
    {
      "cell_type": "code",
      "execution_count": 35,
      "metadata": {
        "id": "nh7s8umvZPgQ"
      },
      "outputs": [],
      "source": [
        "def NR(f,fprime, p0, tol, N, Points = False):\n",
        "    \"\"\"\n",
        "    this function computes an approximate solution of f(x)=0 using Newton-Raphson method.\n",
        "    \n",
        "    Parameters\n",
        "    ----------\n",
        "    f: function object. \n",
        "    fprime : function object.\n",
        "    p0 : float. Initial guess (it has to be in a neighborhood of the true solution within some  delta)\n",
        "    tol : float. Number for the stopping criteria. |p-p0|<tol, or |pn - p_n-1|<tol\n",
        "    N : Int. Max number of iterations before the program stops\n",
        "    \n",
        "    Return\n",
        "    --------\n",
        "    i: int. The number of iteration at the achieved tolerance\n",
        "    p : float. The approximate solution\n",
        "    \n",
        "    \"\"\"\n",
        "    \n",
        "    i = 1\n",
        "    points = [p0]\n",
        "    \n",
        "    while i <= N:\n",
        "        p = p0 - f(p0)/fprime(p0)\n",
        "        points.append(p)\n",
        "        if abs(p-p0) < tol :\n",
        "            if Points == False:\n",
        "              return i, p\n",
        "              break\n",
        "            else:\n",
        "              return i, p, points\n",
        "              break\n",
        "\n",
        "        \n",
        "        i = i + 1\n",
        "        p0 = p\n",
        "    \n",
        "    if i > N:\n",
        "        print('method failed at N = ' + str(N) + 'iterations')\n"
      ]
    },
    {
      "cell_type": "markdown",
      "source": [
        "5. Dada $f(x)=\\frac{1}{4} e^{2 x}-1$ mostrar que $f$ tiene una única raíz real y dicha raíz está en el intervalo $[0,1]$. Veamos cuantas iteraciones le toma al método."
      ],
      "metadata": {
        "id": "JgAo-EckFA5e"
      }
    },
    {
      "cell_type": "code",
      "source": [
        "import random\n",
        "random.seed(19060386)\n",
        "\n",
        "f = lambda x: 0.25*np.exp(2*x) - 1\n",
        "fprime = lambda x: 0.5*np.exp(2*x)\n",
        "p0 = random.random() # random number from (0,1)\n",
        "p1 = random.uniform(-3,100)\n",
        "print(p0)\n",
        "tol = 1e-6\n",
        "N = 30\n",
        "\n",
        "nr =NR(f, fprime, p0, tol, N)\n",
        "\n",
        "print('with Newton we obtain p = ',nr[1], \" in \" + str(nr[0]), \" iterations\")\n",
        "print(\" The root is ln(4)/2 = \", np.log(4)/2)"
      ],
      "metadata": {
        "colab": {
          "base_uri": "https://localhost:8080/"
        },
        "id": "IPeOmxxgFKEv",
        "outputId": "1fd3fe79-ff11-47b3-8852-abe66dad9c93"
      },
      "execution_count": 36,
      "outputs": [
        {
          "output_type": "stream",
          "name": "stdout",
          "text": [
            "0.14643186785129492\n",
            "with Newton we obtain p =  0.6931471805599757  in 6  iterations\n",
            " The root is ln(4)/2 =  0.6931471805599453\n"
          ]
        }
      ]
    },
    {
      "cell_type": "markdown",
      "source": [
        "6. Sea $f(x)=e^{x^{2}+x+1}-e^{x^{3}}-2$. Sabiendo que $f^{\\prime \\prime}(x)>0$ para $x \\in[0,1 / 2]$, determinar un intervalo $I \\subset[0,1 / 2]$ para el cual se puede asegurar que Newton-Raphson converge a una solución de la ecuación $f(x)=0$ para todo $x_{0} \\in I$. ¿Cuántos pasos son necesarios para asegurar que el error cometido con dicha aproximación es menor a $10^{-10}$ ?"
      ],
      "metadata": {
        "id": "g6R1zSsZ85oE"
      }
    },
    {
      "cell_type": "code",
      "source": [
        "f = lambda x: np.exp(x**2 +x + 1) - np.exp(x**3) -2\n",
        "fprime = lambda x: (2*x + 1)*np.exp(x**2 + x + 1) - 3*x**2*np.exp(x**3)\n",
        "tol = 1e-10\n",
        "N = 100\n",
        "\n",
        "P0 = np.random.uniform(0,0.18, size = 10) \n",
        "\n",
        "for po in P0:\n",
        "  print(NR(f, fprime, po, tol, N))"
      ],
      "metadata": {
        "colab": {
          "base_uri": "https://localhost:8080/"
        },
        "id": "6psmM2uRH2Av",
        "outputId": "d03bd632-379c-4b0a-b862-96a139c4dec0"
      },
      "execution_count": 37,
      "outputs": [
        {
          "output_type": "stream",
          "name": "stdout",
          "text": [
            "(4, 0.09064422963927307)\n",
            "(5, 0.09064422963927307)\n",
            "(5, 0.0906442296392731)\n",
            "(5, 0.09064422963927316)\n",
            "(5, 0.09064422963927289)\n",
            "(4, 0.09064422963927306)\n",
            "(4, 0.09064422963927293)\n",
            "(5, 0.09064422963927316)\n",
            "(4, 0.09064422963927317)\n",
            "(5, 0.09064422963927311)\n"
          ]
        }
      ]
    },
    {
      "cell_type": "markdown",
      "source": [
        "8. Considerar la ecuación $\\tan (x)-\\frac{1}{x}=0$ en el intervalo $[0.5,1]$. a) Determinar un intervalo $I \\subset[0.5,1]$ donde Newton- Raphson converge a la solución. (Ayudarse de los gráficos de $f^{\\prime}$ y $f^{\\prime \\prime}$ para hallar las cotas de la convergencia).\n",
        "\n",
        "b) Para el intervalo hallado en el ítem anterior determinar el número de pasos necesarios para asegurar que el error cometido con Newton-Raphson es menor que $10^{-5}$. Comparar con la cantidad de pasos necesarios para obtener la misma cota del error con el método de bisección.\n",
        "\n",
        "c) Usando el programa del ejercicio anterior, hallar una aproximación para la solución de la ecuación.\n"
      ],
      "metadata": {
        "id": "KGfMi1Ic11mg"
      }
    },
    {
      "cell_type": "code",
      "source": [
        "f = lambda x: np.sin(x)/np.cos(x) - 1/x\n",
        "fprime = lambda x: 1/(np.cos(x))**2 + 1/(x**2)\n",
        "tol = 1e-5\n",
        "N = 100\n",
        "\n",
        "P0 = np.random.uniform(0.5,1, size = 10) \n",
        "\n",
        "for po in P0:\n",
        "  print(NR(f, fprime, po, tol, N))\n",
        "\n",
        "print(\"Con biseccion: \", bisect(f, 0.5, 1, tol))\n",
        "\n",
        "\n"
      ],
      "metadata": {
        "colab": {
          "base_uri": "https://localhost:8080/"
        },
        "id": "vIdr-tdo96lc",
        "outputId": "2a89df01-f995-4e71-afe6-f6639f4152aa"
      },
      "execution_count": 38,
      "outputs": [
        {
          "output_type": "stream",
          "name": "stdout",
          "text": [
            "(3, 0.8603335890193807)\n",
            "(4, 0.8603335890193797)\n",
            "(3, 0.8603335890193806)\n",
            "(3, 0.8603335890199357)\n",
            "(3, 0.8603335890499006)\n",
            "(3, 0.8603335890193817)\n",
            "(3, 0.8603335890194101)\n",
            "(2, 0.8603335890217862)\n",
            "(4, 0.8603335890193797)\n",
            "(4, 0.8603335890193797)\n",
            "Con biseccion:  (16, 0.8603363037109375)\n"
          ]
        }
      ]
    },
    {
      "cell_type": "code",
      "source": [
        "p0 =  random.random()\n",
        "i, p, points = NR(f, fprime, p0, tol, N, Points = True)\n",
        "print(\"la sucesion de puntos arrancando en \", p0, \" es \")\n",
        "print(\"--------------------------------------------------\")\n",
        "print(points)"
      ],
      "metadata": {
        "colab": {
          "base_uri": "https://localhost:8080/"
        },
        "id": "-dk6blBo0HQY",
        "outputId": "c16d368b-81fd-413f-e8ed-6f680d83d3ff"
      },
      "execution_count": 40,
      "outputs": [
        {
          "output_type": "stream",
          "name": "stdout",
          "text": [
            "la sucesion de puntos arrancando en  0.5253422063291114  es \n",
            "--------------------------------------------------\n",
            "[0.5253422063291114, 0.7922775306531152, 0.8608577856477309, 0.8603336757145844, 0.8603335890193822]\n"
          ]
        }
      ]
    },
    {
      "cell_type": "code",
      "execution_count": 41,
      "metadata": {
        "id": "BZ-Yb5TQZPgQ",
        "outputId": "15cc6df8-dd8c-4fe3-d502-5076d2a32abd",
        "colab": {
          "base_uri": "https://localhost:8080/"
        }
      },
      "outputs": [
        {
          "output_type": "stream",
          "name": "stdout",
          "text": [
            "6.643856189774724\n"
          ]
        }
      ],
      "source": [
        "# cantidad de pasos para un error especificado:\n",
        "import math\n",
        "\n",
        "error = 1e-5\n",
        "eps = 0.1\n",
        "M =10\n",
        "delta = 2\n",
        "l = M*eps/(2*delta)\n",
        "n = (math.log10(error) - math.log10(eps))/math.log10(l)\n",
        "\n",
        "print(n)"
      ]
    },
    {
      "cell_type": "markdown",
      "metadata": {
        "id": "s32lH_2EZPgQ"
      },
      "source": [
        "### Secant method:\n",
        "\n",
        "9. a) Implementar un programa que reciba como input una función $f$ y dos puntos $x_{0}$ y $x_{1}$ y aplique el método de la secante para buscar una raíz de $f$."
      ]
    },
    {
      "cell_type": "code",
      "execution_count": 42,
      "metadata": {
        "id": "6oT-tnbwZPgR"
      },
      "outputs": [],
      "source": [
        "def secant(f, p0, p1, tol, N):\n",
        "    \"\"\"\n",
        "    this function computes an approximate solution of f(x)=0 using Secant method.\n",
        "    \n",
        "    Parameters\n",
        "    ----------\n",
        "    f: function object. \n",
        "    p0, p1 : float. Initial guesses (it has to be in a neighborhood of the true solution within some  delta)\n",
        "    tol : float. Number for the stopping criteria. |p-p0|<tol, or |pn - p_n-1|<tol\n",
        "    N : Int. Max number of iterations before the program stops\n",
        "    \n",
        "    Return\n",
        "    --------\n",
        "    i: int. The number of iteration at the achieved tolerance\n",
        "    p : float. The approximate solution\n",
        "    \n",
        "    \"\"\"\n",
        "    \n",
        "    i = 2\n",
        "    q0, q1 = f(p0), f(p1)\n",
        "    \n",
        "    while i <= N:\n",
        "        p = p1 - (q1*(p1 - p0))/(q1 - q0)\n",
        "        \n",
        "        if abs(p-p1) < tol :\n",
        "            return i, p\n",
        "            break\n",
        "        \n",
        "        i = i + 1\n",
        "        p0 = p1\n",
        "        p1 = p\n",
        "        q0 = q1\n",
        "        q1 = f(p)\n",
        "    \n",
        "    if i > N:\n",
        "        print('method failed at N = ' + str(N) + 'iterations')\n",
        "\n"
      ]
    },
    {
      "cell_type": "markdown",
      "source": [
        "b) Para la función $f(x)=x^{2}-5$ comparar los resultados obtenidos con el método de la secante y el de Newton-Raphson. Comparar los resultados obtenidos en cada paso.\n"
      ],
      "metadata": {
        "id": "N0VSaSymaih7"
      }
    },
    {
      "cell_type": "code",
      "execution_count": 43,
      "metadata": {
        "id": "buzdk9etZPgR",
        "outputId": "911bdee8-5be6-4621-e79b-1f2de652a85b",
        "colab": {
          "base_uri": "https://localhost:8080/"
        }
      },
      "outputs": [
        {
          "output_type": "stream",
          "name": "stdout",
          "text": [
            "with secant we obtain p =  (7, 2.2360679775604853) ***** slower than Newton-Raphson\n",
            "---------------------------------------------------------------------\n",
            "with Newton Raphson we obtain p =  (4, 2.236067977499978)  ********WOW!!!!!\n",
            "---------------------------------------------------------------------\n",
            "with bisect function we obtain:  (22, 2.2360682487487793)\n",
            "---------------------------------------------------------------------\n",
            "the value computed with python is  2.23606797749979\n"
          ]
        }
      ],
      "source": [
        "f = lambda x : x**2 - 5\n",
        "fprime = lambda x : 2*x\n",
        "tol = 1e-6\n",
        "N = 30\n",
        "p0 = 0\n",
        "p1 = 3\n",
        "print('with secant we obtain p = ', secant(f, p0, p1, tol, N), '***** slower than Newton-Raphson')\n",
        "print('---------------------------------------------------------------------')\n",
        "print('with Newton Raphson we obtain p = ', NR(f, fprime, p1, tol, N)[0:2], ' ********WOW!!!!!')\n",
        "print('---------------------------------------------------------------------')\n",
        "print('with bisect function we obtain: ', bisect(f, p0, p1, tol))\n",
        "print('---------------------------------------------------------------------')\n",
        "print('the value computed with python is ', 5**(1/2))"
      ]
    },
    {
      "cell_type": "markdown",
      "source": [
        "Calcular una solución aproximada de las siguientes ecuaciones\n",
        "\n",
        "a) $e^{-x}+x^{2}-3 \\operatorname{sen}(x)=0$\n",
        "\n",
        "b) $e^{|x|}=\\arctan (x)+2$,\n",
        "\n",
        "c) $x^{15}-2=0$,\n",
        "\n",
        "utilizando los métodos anteriores. Comparar cómo se comportan los errores y decidir cuál tiene la convergencia más rápida.\n"
      ],
      "metadata": {
        "id": "lfxAapEmbxxw"
      }
    },
    {
      "cell_type": "code",
      "source": [
        "# a)\n",
        "\n",
        "f = lambda x: np.exp(-x) + x**2 -3*np.sin(x)\n",
        "fprime = lambda x: -np.exp(-x) +2*x -3*np.cos(x)\n",
        "tol = 1e-10\n",
        "N = 30\n",
        "p0 = 0\n",
        "p1 = 1\n",
        "\n",
        "print('with secant we obtain p = ', secant(f, p0, p1, tol, N))\n",
        "print('---------------------------------------------------------------------')\n",
        "print('with Newton Raphson we obtain p = ', NR(f, fprime, p0, tol, N)[0:2], ' ********WOW!!!!!')\n",
        "print('---------------------------------------------------------------------')\n",
        "print('with bisect function we obtain: ', bisect(f, p0, p1, tol))\n"
      ],
      "metadata": {
        "colab": {
          "base_uri": "https://localhost:8080/"
        },
        "id": "M__Ln8rVbz2w",
        "outputId": "9664c0e5-2254-479b-dca6-d42e37044adc"
      },
      "execution_count": 44,
      "outputs": [
        {
          "output_type": "stream",
          "name": "stdout",
          "text": [
            "with secant we obtain p =  (9, 0.2816634752793798)\n",
            "---------------------------------------------------------------------\n",
            "with Newton Raphson we obtain p =  (5, 0.2816634752793798)  ********WOW!!!!!\n",
            "---------------------------------------------------------------------\n",
            "with bisect function we obtain:  (34, 0.28166347520891577)\n"
          ]
        }
      ]
    },
    {
      "cell_type": "markdown",
      "metadata": {
        "id": "w0pQ08P9ZPgS"
      },
      "source": [
        "## Ploting the errors for each iteration:\n",
        "\n",
        "In this part we don't use the stopping criteria since we want to compute the error at each iteration for each method!"
      ]
    },
    {
      "cell_type": "code",
      "execution_count": 45,
      "metadata": {
        "id": "1RtMYiWIZPgS"
      },
      "outputs": [],
      "source": [
        "def bisect1(f, a, b, N):\n",
        "    i = 1\n",
        "    fa = f(a)\n",
        "    \n",
        "    while i <= N:\n",
        "        \n",
        "        p = a + (b-a)/2\n",
        "        fp = f(p)        \n",
        "        i = i + 1\n",
        "        \n",
        "        if fa*fp > 0 :\n",
        "            a = p\n",
        "            fa = fp\n",
        "        else: \n",
        "            b = p\n",
        "    return p\n",
        "\n",
        "def NR1(f,fprime, p0, N):\n",
        "    i = 1\n",
        "    \n",
        "    while i <= N:\n",
        "        p = p0 - f(p0)/fprime(p0)\n",
        "        i = i + 1\n",
        "        p0 = p\n",
        "    return p\n",
        "\n",
        "def secant1(f, p0, p1, N):\n",
        "    i = 1\n",
        "    q0, q1 = f(p0), f(p1)\n",
        "    \n",
        "    while i <= N:\n",
        "        p = p1 - q1*(p1 - p0)/(q1 - q0)\n",
        "        i = i + 1\n",
        "        p0 = p1\n",
        "        q0 = q1\n",
        "        p1 = p\n",
        "        q1 = f(p)\n",
        "    return p"
      ]
    },
    {
      "cell_type": "code",
      "execution_count": 46,
      "metadata": {
        "id": "CxPEasf4ZPgR",
        "outputId": "ade1ce76-ae05-4e11-cc21-ef204714232b",
        "colab": {
          "base_uri": "https://localhost:8080/"
        }
      },
      "outputs": [
        {
          "output_type": "stream",
          "name": "stdout",
          "text": [
            "0.2816634752793798\n"
          ]
        }
      ],
      "source": [
        "f = lambda x: np.exp(-x) + x**2 -3*np.sin(x)\n",
        "fprime = lambda x: -np.exp(-x) +2*x -3*np.cos(x)\n",
        "tol = 1e-10\n",
        "N = 100\n",
        "p0 = 0\n",
        "p1 = 1\n",
        "\n",
        "x = NR(f, fprime, p0, tol, N)[1]\n",
        "print(x)"
      ]
    },
    {
      "cell_type": "code",
      "execution_count": 47,
      "metadata": {
        "id": "gUfQG4UdZPgS",
        "outputId": "2a6c923a-f183-4700-c90b-efd150fa3bcc",
        "colab": {
          "base_uri": "https://localhost:8080/",
          "height": 569
        }
      },
      "outputs": [
        {
          "output_type": "stream",
          "name": "stderr",
          "text": [
            "<ipython-input-47-9aafa7c8d2b6>:25: RuntimeWarning: divide by zero encountered in log10\n",
            "  plt.scatter(range(1,20), np.log10(e_NR), marker = '*',color = 'blue', label = 'NR')\n"
          ]
        },
        {
          "output_type": "display_data",
          "data": {
            "text/plain": [
              "<Figure size 1000x600 with 1 Axes>"
            ],
            "image/png": "[encoded data removed]"
          },
          "metadata": {
            "needs_background": "light"
          }
        }
      ],
      "source": [
        "# plotting errors\n",
        "a, b = 0, 2\n",
        "f = lambda x: np.exp(-x) + x**2 -3*np.sin(x)\n",
        "fprime = lambda x: -np.exp(-x) +2*x -3*np.cos(x)\n",
        "tol = 1e-10\n",
        "N = 100\n",
        "p0 = 0\n",
        "p1 = 2\n",
        "\n",
        "e_b = np.zeros(20)\n",
        "for n in range(1,21):\n",
        "    e_b[n-1] = np.abs(x - bisect1(f, a, b, n))\n",
        "\n",
        "e_NR = np.zeros(19)\n",
        "for n in range(1,20):\n",
        "    e_NR[n-1] = np.abs(x - NR1(f, fprime, p0, n))\n",
        "\n",
        "e_sec = np.zeros(7)\n",
        "for n in range(1,8):\n",
        "    e_sec[n-1] = np.abs(x - secant1(f, p0, p1, n))\n",
        " \n",
        "\n",
        "plt.figure(figsize = (10,6), dpi = 100)\n",
        "plt.scatter(range(1,21), np.log10(e_b), marker = '*',color = 'red', label = 'bisection')\n",
        "plt.scatter(range(1,20), np.log10(e_NR), marker = '*',color = 'blue', label = 'NR')\n",
        "plt.scatter(range(1,8), np.log10(e_sec), marker = '*',color = 'purple', label = 'secant')\n",
        "plt.ylabel('$\\log_{10}(error)$')\n",
        "plt.xlabel('n')\n",
        "plt.xticks(range(1,21,2))\n",
        "plt.legend()\n",
        "plt.show()\n",
        "\n",
        "\n",
        "\n"
      ]
    },
    {
      "cell_type": "markdown",
      "source": [
        "## Punto fijo\n",
        "\n",
        "*italicized text*"
      ],
      "metadata": {
        "id": "__HJYMvHHtb6"
      }
    },
    {
      "cell_type": "markdown",
      "source": [
        "12. Estudiar numéricamente las iteraciones de $g(x)=\\lambda x(1-x)$ para $x_{0}=0.3$, en los casos $\\lambda=0.9,2.5,3.2,3.56,3.9$."
      ],
      "metadata": {
        "id": "gWp5yUUSHx5x"
      }
    },
    {
      "cell_type": "code",
      "source": [
        "g = lambda x, l: l*x*(1-x)\n",
        "n = 10\n",
        "L = [0.9, 2.5, 3.2, 3.56, 3.9]\n",
        "x0 = 0.3\n",
        "X = np.zeros((len(L), n+1))\n",
        "X[:, 0] = x0\n",
        "\n",
        "for (i, l) in enumerate(L):\n",
        "  x_old = x0\n",
        "  for j in range(1, n+1):\n",
        "    x = g(x_old, L[i])\n",
        "    X[i,j] = x\n",
        "    x_old = x\n",
        "\n",
        "print(X)  "
      ],
      "metadata": {
        "colab": {
          "base_uri": "https://localhost:8080/"
        },
        "id": "I3UkIcN1H1_U",
        "outputId": "2b38d599-3a6c-4941-f4ab-f56b74e9127d"
      },
      "execution_count": 48,
      "outputs": [
        {
          "output_type": "stream",
          "name": "stdout",
          "text": [
            "[[0.3        0.189      0.1379511  0.10702853 0.08601608 0.07075559\n",
            "  0.05917431 0.05010544 0.0428354  0.03690047 0.03198494]\n",
            " [0.3        0.525      0.6234375  0.58690796 0.60611752 0.59684768\n",
            "  0.60155132 0.59921833 0.60038931 0.59980497 0.60009742]\n",
            " [0.3        0.672      0.7053312  0.66508511 0.7127901  0.6551052\n",
            "  0.72301561 0.64084493 0.73652066 0.62098553 0.75316001]\n",
            " [0.3        0.7476     0.67175149 0.78498507 0.6008693  0.85377837\n",
            "  0.44443347 0.87900801 0.37861644 0.83754707 0.48438064]\n",
            " [0.3        0.819      0.5781321  0.95119196 0.18106067 0.57828305\n",
            "  0.95109988 0.1813847  0.57908873 0.95060539 0.18312364]]\n"
          ]
        }
      ]
    },
    {
      "cell_type": "code",
      "source": [
        "plt.figure(figsize = (10,6), dpi = 100)\n",
        "plt.scatter(range(X.shape[1]), X[0,:])"
      ],
      "metadata": {
        "colab": {
          "base_uri": "https://localhost:8080/",
          "height": 531
        },
        "id": "ywmSKgLsxTR4",
        "outputId": "3f77cabb-0dab-4428-924a-a340cdb0651f"
      },
      "execution_count": 49,
      "outputs": [
        {
          "output_type": "execute_result",
          "data": {
            "text/plain": [
              "<matplotlib.collections.PathCollection at 0x7f350fdad910>"
            ]
          },
          "metadata": {},
          "execution_count": 49
        },
        {
          "output_type": "display_data",
          "data": {
            "text/plain": [
              "<Figure size 1000x600 with 1 Axes>"
            ],
            "image/png": "[encoded data removed]"
          },
          "metadata": {
            "needs_background": "light"
          }
        }
      ]
    },
    {
      "cell_type": "code",
      "source": [
        "x = range(X.shape[1])\n",
        "K = X.shape[0]\n",
        "from random import randint\n",
        "colors = []\n",
        "\n",
        "for k in range(K):\n",
        "    colors.append('#%06X' % randint(0, 0xFFFFFF))\n",
        "\n",
        "plt.figure(figsize = (12,8), dpi = 100)\n",
        "\n",
        "for i in range(K):\n",
        "  plt.plot(x, X[i,:], marker = '*',color = colors[i], label = 'lambda = ' + str(L[i]))\n",
        "  plt.ylabel('$x_n$')\n",
        "  plt.xlabel('n')\n",
        "  plt.legend()\n",
        "\n"
      ],
      "metadata": {
        "colab": {
          "base_uri": "https://localhost:8080/",
          "height": 684
        },
        "id": "vGOvDeYBKXSZ",
        "outputId": "ca60bb59-236a-4494-9f66-10d54162980a"
      },
      "execution_count": 50,
      "outputs": [
        {
          "output_type": "display_data",
          "data": {
            "text/plain": [
              "<Figure size 1200x800 with 1 Axes>"
            ],
            "image/png": "[encoded data removed]"
          },
          "metadata": {
            "needs_background": "light"
          }
        }
      ]
    },
    {
      "cell_type": "markdown",
      "source": [
        "#### Algoritmo de punto fijo"
      ],
      "metadata": {
        "id": "v8TuvaciC6xC"
      }
    },
    {
      "cell_type": "code",
      "source": [
        "def fixed_point(g, x0, tol, N):\n",
        "\n",
        "  i = 1\n",
        "  while i<= N:\n",
        "    x_new = g(x0)\n",
        "\n",
        "    if np.abs(x_new - x0) < tol:\n",
        "      return i, x_new\n",
        "      break\n",
        "    \n",
        "    i = i+1\n",
        "    x0 = x_new\n",
        "  \n",
        "  return i, x_new"
      ],
      "metadata": {
        "id": "eC3f1vlwC-Ic"
      },
      "execution_count": 51,
      "outputs": []
    },
    {
      "cell_type": "markdown",
      "source": [
        "#### *Ejercicio* 15\n",
        "El siguiente sistema de ecuaciones representa la dinámica de un sistema transcripcional en donde la proteina inhibe (reprime) su propia producción. La variable $x$ representa la concentración de mARN y la variable $y$ representa la concentración de proteína:\n",
        "\n",
        "$$\n",
        "\\left\\{\\begin{array}{l}\n",
        "\\dot{x}=\\kappa_{1} f(y)-\\gamma_{1} x, \\\\\n",
        "\\dot{y}=\\kappa_{2} x-\\gamma_{2} y,\n",
        "\\end{array}\\right.\n",
        "$$\n",
        "\n",
        "donde $\\kappa_{1}, \\kappa_{2}>0$ son constantes que representan la tasa de producción y $\\gamma_{1}, \\gamma_{2}>0$ son constantes\n",
        "\n",
        "que representan la tasa de degradación. La no linealidad viene dada por la función $f(y)=\\frac{\\theta^{\\alpha}}{\\theta^{\\alpha}+y^{\\alpha}}$, con $\\theta>0$. Considerar $\\kappa_{1}=2, \\kappa_{2}=1, \\gamma_{1}=\\gamma_{2}=1, \\theta=1$ y $\\alpha=0.5$. Plantear un método de punto fijo convergente y luego aproximar el estado estacionario del sistema implementando dicho método. Recordar que los estados estacionarios son aquellos en los que $\\dot{x}=\\dot{y}=0$.\n",
        "\n",
        "\n",
        "El sistema se transforma en una ecuacion no lineal\n",
        "$$\n",
        "\\frac{2}{1+\\sqrt{x}} = x\n",
        "$$\n",
        "\n",
        "\n",
        "*Spoiler Alert*: la solucion es $x=y=1$"
      ],
      "metadata": {
        "id": "f8RmOjCFBngj"
      }
    },
    {
      "cell_type": "code",
      "source": [
        "g = lambda x: 2/(1+x**0.5)\n",
        "I = [0.5, 2]\n",
        "x0 = np.random.uniform(I[0], I[1])\n",
        "N = 30\n",
        "tol = 1e-6\n",
        "iter, solution = fixed_point(g, x0, tol, N)\n",
        "\n",
        "print(\"LA solucion aproximada de estado estacionario es: x = y\", solution, \" le tomo \" + str(iter) + \" iteraciones\")"
      ],
      "metadata": {
        "colab": {
          "base_uri": "https://localhost:8080/"
        },
        "id": "VKEZWnvgBhzm",
        "outputId": "13aa849e-09b7-4069-a1d9-b6349fc2cebc"
      },
      "execution_count": 53,
      "outputs": [
        {
          "output_type": "stream",
          "name": "stdout",
          "text": [
            "LA solucion aproximada de estado estacionario es: x = y 0.9999998405947069  le tomo 11 iteraciones\n"
          ]
        }
      ]
    },
    {
      "cell_type": "markdown",
      "source": [
        "## Newton en dimension mayor a dos "
      ],
      "metadata": {
        "id": "xd4H3YQpCUkT"
      }
    },
    {
      "cell_type": "code",
      "execution_count": 54,
      "metadata": {
        "id": "BTL3CZpmZPgW"
      },
      "outputs": [],
      "source": [
        "from scipy.linalg import *\n",
        "\n",
        "def Newton(F, DF, P0, tol, N, points = False):\n",
        "    \"\"\"\n",
        "    Newton to compute critical points for f:R^n\\to R. Compute zeros of the Df =F\n",
        "    \"\"\"\n",
        "    i = 1\n",
        "    points = [P0]\n",
        "    \n",
        "    while i<=N:\n",
        "        \n",
        "        P = P0 - inv(DF(P0[0],P0[1]))@F(P0[0],P0[1])\n",
        "        points.append(P)\n",
        "        \n",
        "        if norm(P-P0) < tol:\n",
        "            if points == True:\n",
        "              return i, P, points\n",
        "            else:\n",
        "              return i, P\n",
        "            break\n",
        "        \n",
        "        i = i+1\n",
        "        P0 = P\n",
        "    \n",
        "    return P"
      ]
    },
    {
      "cell_type": "markdown",
      "source": [
        "#### Ejercicio 16\n",
        "\n",
        "Comenzando con $\\left(x_{0}, y_{0}\\right)=(1,2)$, utilizar el método de Newton-Raphson para aproximar una solución del sistema\n",
        "\n",
        "$$\n",
        "\\left\\{\\begin{aligned}\n",
        "3 x^{2}+(y-2)^{2} & =4 \\\\\n",
        "y & =e^{x}\n",
        "\\end{aligned}\\right.\n",
        "$$"
      ],
      "metadata": {
        "id": "gMgYWJoMFenm"
      }
    },
    {
      "cell_type": "code",
      "source": [
        "F = lambda x, y: np.array([3*x**2 + (y-2)**2 - 4, y - np.exp(x)])\n",
        "DF = lambda x, y: np.array([[6*x, 2*(y-2)],[-np.exp(x), 1]])\n",
        "P0 = np.array([1,2])\n",
        "tol = 1e-6\n",
        "N = 30\n",
        "\n",
        "\n",
        "i, P = Newton(F, DF, P0, 1e-5, N)\n",
        "\n",
        "print(\"Le tomó \" + str(i) + \" iteraciones para encontrar el punto \", P)"
      ],
      "metadata": {
        "colab": {
          "base_uri": "https://localhost:8080/"
        },
        "id": "rxaVYaetFtFE",
        "outputId": "c3c24bcb-fe9e-4def-9ef0-fda388d9eff5"
      },
      "execution_count": 56,
      "outputs": [
        {
          "output_type": "stream",
          "name": "stdout",
          "text": [
            "Le tomó 5 iteraciones para encontrar el punto  [1.04613738 2.84663438]\n"
          ]
        }
      ]
    },
    {
      "cell_type": "markdown",
      "source": [
        "En ese caso se puede hacer un Newton unidimensional pues $y = \\exp(x)$ con lo cual se reduce a una ecuacion:\n",
        "\n",
        "$$\n",
        "3x^2 +(\\exp(x)-2)^2 - 4 =0\n",
        "$$"
      ],
      "metadata": {
        "id": "7Ph0SV0sHqXe"
      }
    },
    {
      "cell_type": "code",
      "source": [
        "f = lambda x: 3*x**2 + (np.exp(x)-2)**2 - 4\n",
        "fprime = lambda x: 6*x +2*(np.exp(x)-2)*np.exp(x)\n",
        "p0 = 1\n",
        "tol = 1e-6\n",
        "N = 30\n",
        "_ , x = NR(f, fprime, p0, tol, N)\n",
        "\n",
        "print(\" como x = \" + str(x) + \" P = (x, y ) = (x, exp(x)) = \", np.array([x, np.exp(x)]))"
      ],
      "metadata": {
        "colab": {
          "base_uri": "https://localhost:8080/"
        },
        "id": "1Ofx9qDnICVy",
        "outputId": "c80c9f43-9a3b-4cdb-e21a-070a233a8e91"
      },
      "execution_count": 58,
      "outputs": [
        {
          "output_type": "stream",
          "name": "stdout",
          "text": [
            " como x = 1.0461373763371598 P = (x, y ) = (x, exp(x)) =  [1.04613738 2.84663438]\n"
          ]
        }
      ]
    },
    {
      "cell_type": "markdown",
      "source": [
        "Un Ejemplo mas:\n",
        "\n",
        "\n",
        "\n",
        "\n"
      ],
      "metadata": {
        "id": "zj2CYeKnBVqx"
      }
    },
    {
      "cell_type": "code",
      "execution_count": 60,
      "metadata": {
        "id": "G17jFzcXZPgV"
      },
      "outputs": [],
      "source": [
        "F = lambda x, y: np.array([-2*x*y*np.exp(-x**2) + 2*x + 1, np.exp(-x**2) + 4*y**3])\n",
        "DF = lambda x, y: np.array([[y*np.exp(-x**2)*(4*x**2 - 2) + 2 , -2*x*np.exp(-x**2)],[-2*x*np.exp(-x**2), 12*y**2]])"
      ]
    },
    {
      "cell_type": "markdown",
      "source": [
        "\n",
        "\n",
        "---\n",
        "\n",
        "\n",
        "\n",
        "---\n",
        "\n",
        "\n",
        "\n",
        "---\n",
        "\n",
        "\n",
        "\n",
        "---\n",
        "\n",
        "\n",
        "\n",
        "---\n",
        "\n"
      ],
      "metadata": {
        "id": "mvzKU83U2aqC"
      }
    },
    {
      "cell_type": "markdown",
      "metadata": {
        "id": "8GbDrTCnZPgS"
      },
      "source": [
        "*italicized text*### Ejercicio 5\n",
        "\n",
        "Aproximar $^{3}\\sqrt(2)$ usando bisección en $[1,2]$, NR con $x_0=2$ y secante con $p_0=3,~p_1=2$"
      ]
    },
    {
      "cell_type": "code",
      "execution_count": 24,
      "metadata": {
        "id": "z0_uVjPtZPgS",
        "outputId": "a4c07693-238e-483d-e149-012a94d336b5",
        "colab": {
          "base_uri": "https://localhost:8080/",
          "height": 587
        }
      },
      "outputs": [
        {
          "output_type": "stream",
          "name": "stderr",
          "text": [
            "<ipython-input-24-41df28fcc6e5>:25: RuntimeWarning: divide by zero encountered in log10\n",
            "  plt.scatter(range(1,20), np.log10(e_NR), marker = '*',color = 'blue', label = 'NR')\n"
          ]
        },
        {
          "output_type": "execute_result",
          "data": {
            "text/plain": [
              "<matplotlib.legend.Legend at 0x7faf39f01dc0>"
            ]
          },
          "metadata": {},
          "execution_count": 24
        },
        {
          "output_type": "display_data",
          "data": {
            "text/plain": [
              "<Figure size 1000x600 with 1 Axes>"
            ],
            "image/png": "[encoded data removed]"
          },
          "metadata": {
            "needs_background": "light"
          }
        }
      ],
      "source": [
        "x = 2**(1/3)\n",
        "a, b = 1, 2\n",
        "f = lambda x : x**3 - 2\n",
        "fprime = lambda x : 3*x**2\n",
        "tol = 1e-6\n",
        "N = 30\n",
        "x0 = 2\n",
        "p1 = 2\n",
        "p0 = 3\n",
        "e_b = np.zeros(20)\n",
        "for n in range(1,21):\n",
        "    e_b[n-1] = np.abs(x - bisect1(f, a, b, n))\n",
        "\n",
        "e_NR = np.zeros(19)\n",
        "for n in range(1,20):\n",
        "    e_NR[n-1] = np.abs(x - NR1(f, fprime, x0, n))\n",
        "\n",
        "e_sec = np.zeros(7)\n",
        "for n in range(1,8):\n",
        "    e_sec[n-1] = np.abs(x - secant1(f, p0, p1, n))\n",
        " \n",
        "\n",
        "plt.figure(figsize = (10,6), dpi = 100)\n",
        "plt.scatter(range(1,21), np.log10(e_b), marker = '*',color = 'red', label = 'bisection')\n",
        "plt.scatter(range(1,20), np.log10(e_NR), marker = '*',color = 'blue', label = 'NR')\n",
        "plt.scatter(range(1,8), np.log10(e_sec), marker = '*',color = 'purple', label = 'secant')\n",
        "plt.ylabel('$\\log_{10}(error)$')\n",
        "plt.xlabel('n')\n",
        "plt.xticks(range(1,21,2))\n",
        "plt.legend()"
      ]
    },
    {
      "cell_type": "markdown",
      "metadata": {
        "id": "FJjbYPJjZPgT"
      },
      "source": [
        "# Otros metodos:\n",
        "\n"
      ]
    },
    {
      "cell_type": "markdown",
      "source": [
        "## Regula `Falsi`"
      ],
      "metadata": {
        "id": "sgBeDYvnCKhB"
      }
    },
    {
      "cell_type": "code",
      "execution_count": 25,
      "metadata": {
        "id": "3c549r-_ZPgT"
      },
      "outputs": [],
      "source": [
        "def RegFalsi(f, p0, p1, tol, N):\n",
        "    \"\"\"\n",
        "    this function computes an approximate solution of f(x)=0 using Regula Falsi.\n",
        "    \n",
        "    Parameters\n",
        "    ----------\n",
        "    f: function object. \n",
        "    p0, p1 : float. Initial guesses such that f(p0)f(p1)<0\n",
        "    tol : float. Number for the stopping criteria. |p-p0|<tol, or |pn - p_n-1|<tol\n",
        "    N : Int. Max number of iterations before the program stops\n",
        "    \n",
        "    Return\n",
        "    --------\n",
        "    i: int. The number of iteration at the achieved tolerance\n",
        "    p : float. The approximate solution\n",
        "    \"\"\"\n",
        "    \n",
        "    i = 1\n",
        "    q0 = f(p0)\n",
        "    q1 = f(p1)\n",
        "    \n",
        "    while i <= N:\n",
        "        \n",
        "        p = p1 - q1*(p1 - p0)/(q1 - q0)\n",
        "        if abs(p - p1) < tol :\n",
        "            return str(i) + ' iteraciones. La solucion es : ', p\n",
        "            break\n",
        "        \n",
        "        i = i + 1\n",
        "        q = f(p)\n",
        "        \n",
        "        # elijo el intervalo\n",
        "        if q*q1 < 0:\n",
        "            p0 = p\n",
        "            q0 = q\n",
        "        else:\n",
        "            p1 = p\n",
        "            q1 = q\n",
        "    return i, p"
      ]
    },
    {
      "cell_type": "markdown",
      "metadata": {
        "id": "pWnr7Yo-ZPgT"
      },
      "source": [
        "#### Ejemplo:\n",
        "\n",
        "$f(x)=\\cos(x) - x$ with $p_0 = 0.5$, $p_1 =\\pi/4$"
      ]
    },
    {
      "cell_type": "code",
      "execution_count": 27,
      "metadata": {
        "id": "YlHGIVB9ZPgT",
        "outputId": "503e5f70-567a-4e76-e515-f005a765cb78",
        "colab": {
          "base_uri": "https://localhost:8080/"
        }
      },
      "outputs": [
        {
          "output_type": "stream",
          "name": "stdout",
          "text": [
            "con Regula falsi  ('9 iteraciones. La solucion es : ', 0.7390851332151607)\n",
            "------------------------------------------------------------------\n",
            "con Newton :  (3, 0.7390851332151611)\n",
            "------------------------------------------------------------------\n",
            "con Secante :  (5, 0.7390851332150645)\n",
            "------------------------------------------------------------------\n",
            "con biseccion :  (19, 0.7390856310764183)\n",
            "------------------------------------------------------------------\n"
          ]
        }
      ],
      "source": [
        "f = lambda x : np.cos(x) - x\n",
        "fprime = lambda x : -np.sin(x) -1\n",
        "p0 = 0.5\n",
        "p1 = 0.25*np.pi\n",
        "tol = 1e-6\n",
        "N = 20\n",
        "print('con Regula falsi ', RegFalsi(f, p0, p1, tol, N))\n",
        "print('------------------------------------------------------------------')\n",
        "print('con Newton : ', NR(f, fprime, p1, tol, N)[0:2])\n",
        "print('------------------------------------------------------------------')\n",
        "print('con Secante : ', secant(f, p0, p1, tol, N))\n",
        "print('------------------------------------------------------------------')\n",
        "print('con biseccion : ', bisect(f, p0,p1, tol))\n",
        "print('------------------------------------------------------------------')"
      ]
    },
    {
      "cell_type": "markdown",
      "metadata": {
        "id": "GrNATkZzZPgT"
      },
      "source": [
        "## ejercicio 6.\n",
        "\n",
        "$$\n",
        "f(x) =\\frac{x}{1+|x|}\n",
        "$$"
      ]
    },
    {
      "cell_type": "code",
      "execution_count": 28,
      "metadata": {
        "id": "x7NyKrZjZPgT"
      },
      "outputs": [],
      "source": [
        "f = lambda x : x/(1+np.abs(x))\n",
        "fprime = lambda x: 1/(1+np.abs(x))**2\n",
        "p0 = 1\n",
        "tol = 1e-4\n",
        "N =10000"
      ]
    },
    {
      "cell_type": "code",
      "execution_count": 29,
      "metadata": {
        "id": "XjaufyV7ZPgT",
        "outputId": "1eac635d-b48d-4a97-bf07-c1fad963600b",
        "colab": {
          "base_uri": "https://localhost:8080/"
        }
      },
      "outputs": [
        {
          "output_type": "stream",
          "name": "stdout",
          "text": [
            "method failed at N = 10000iterations\n"
          ]
        }
      ],
      "source": [
        "NR(f, fprime, p0, tol, N)"
      ]
    },
    {
      "cell_type": "markdown",
      "metadata": {
        "id": "TmNA6tuOZPgU"
      },
      "source": [
        "## Ejercicio 9\n",
        "\n",
        "$$\n",
        "f(x) = (x+1)\\exp(x)-4\n",
        "$$\n",
        "\n",
        "* NR converge para todo $x_0>1$\n",
        "\n",
        "* Que pasa si $x_0=-3$?"
      ]
    },
    {
      "cell_type": "code",
      "execution_count": 30,
      "metadata": {
        "id": "6rfYpNXRZPgU",
        "outputId": "1896bb4d-fa88-4995-ad0c-378f9e623a38",
        "colab": {
          "base_uri": "https://localhost:8080/"
        }
      },
      "outputs": [
        {
          "output_type": "execute_result",
          "data": {
            "text/plain": [
              "(285, 0.7990407531718926)"
            ]
          },
          "metadata": {},
          "execution_count": 30
        }
      ],
      "source": [
        "f = lambda x : (x+1)*np.exp(x) - 4\n",
        "fprime = lambda x : (x+2)*np.exp(x)\n",
        "p0 = -1.9\n",
        "N = 1000\n",
        "tol = 1e-8\n",
        "NR(f, fprime, p0, tol, N)[0:2]"
      ]
    },
    {
      "cell_type": "code",
      "execution_count": 31,
      "metadata": {
        "id": "nwwlL5yNZPgU",
        "outputId": "87ff9619-0eb2-4cb7-e3e1-53557e41662e",
        "colab": {
          "base_uri": "https://localhost:8080/"
        }
      },
      "outputs": [
        {
          "output_type": "execute_result",
          "data": {
            "text/plain": [
              "-1.5269180939498077"
            ]
          },
          "metadata": {},
          "execution_count": 31
        }
      ],
      "source": [
        "f(0.5)"
      ]
    },
    {
      "cell_type": "code",
      "execution_count": 32,
      "metadata": {
        "id": "OoBgQ4nQZPgU",
        "outputId": "27c87467-3e06-4cf2-a3f0-7acf6a997184",
        "colab": {
          "base_uri": "https://localhost:8080/"
        }
      },
      "outputs": [
        {
          "output_type": "execute_result",
          "data": {
            "text/plain": [
              "1.4365636569180902"
            ]
          },
          "metadata": {},
          "execution_count": 32
        }
      ],
      "source": [
        "f(1)"
      ]
    },
    {
      "cell_type": "markdown",
      "metadata": {
        "id": "4WnPCCpTZPgU"
      },
      "source": [
        "f tiene una raiz en $(0.5,1)$ y como $f' >0$ en $(-2,+\\infty)$ la raiz es unica!"
      ]
    },
    {
      "cell_type": "markdown",
      "metadata": {
        "id": "OOMJBv7YZPgU"
      },
      "source": [
        "## Ejercicio 10:\n",
        "\n",
        "$$\n",
        "f(x) = -\\exp(-x) +5x\n",
        "$$"
      ]
    },
    {
      "cell_type": "code",
      "execution_count": 33,
      "metadata": {
        "id": "ExJJEBIjZPgU"
      },
      "outputs": [],
      "source": [
        "f = lambda x: -np.exp(-x) +5*x\n",
        "fprime = lambda x: np.exp(-x) +5\n",
        "p0 = 1000\n",
        "tol = 1e-6\n",
        "N = 100000\n"
      ]
    },
    {
      "cell_type": "code",
      "execution_count": 34,
      "metadata": {
        "id": "zc44nbBuZPgU",
        "outputId": "6a186aac-7375-4b0f-bfe5-640170fa8a1f",
        "colab": {
          "base_uri": "https://localhost:8080/"
        }
      },
      "outputs": [
        {
          "output_type": "execute_result",
          "data": {
            "text/plain": [
              "(4,\n",
              " 0.1689159734990999,\n",
              " [1000, 0.0, 0.16666666666666666, 0.16891560751280038, 0.1689159734990999])"
            ]
          },
          "metadata": {},
          "execution_count": 34
        }
      ],
      "source": [
        "NR(f, fprime, p0, tol, N)"
      ]
    },
    {
      "cell_type": "markdown",
      "metadata": {
        "id": "0i1AvABYZPgU"
      },
      "source": [
        "Notar que si $f(x)=-\\exp(-x) + 5$ no se tiene convergencia para todo dato inicial $x_0$. Se necesita fuertemente que $f'(x) >\\delta >0$ para todo $x$. Esta hipotesis si bien no es necesaria desde el punto de vista teorico es necearia desde el punto de vista practico!"
      ]
    },
    {
      "cell_type": "code",
      "execution_count": 35,
      "metadata": {
        "id": "O1EBkzYLZPgU"
      },
      "outputs": [],
      "source": [
        "f = lambda x: -np.exp(-x) +5\n",
        "fprime = lambda x: np.exp(-x) \n",
        "p0 = 0\n",
        "tol = 1e-6\n",
        "N = 100\n",
        "\n"
      ]
    },
    {
      "cell_type": "code",
      "execution_count": 36,
      "metadata": {
        "id": "mNFzcWdxZPgV"
      },
      "outputs": [],
      "source": [
        "i,p, _ = NR(f, fprime, p0,tol, N)"
      ]
    },
    {
      "cell_type": "code",
      "execution_count": 37,
      "metadata": {
        "id": "WsiA1yREZPgV",
        "outputId": "1c0af1a0-8abb-46f9-8a05-5a10bace4e12",
        "colab": {
          "base_uri": "https://localhost:8080/"
        }
      },
      "outputs": [
        {
          "output_type": "execute_result",
          "data": {
            "text/plain": [
              "-1.6094379124341005"
            ]
          },
          "metadata": {},
          "execution_count": 37
        }
      ],
      "source": [
        "p"
      ]
    },
    {
      "cell_type": "markdown",
      "metadata": {
        "id": "Kp_yZBmRZPgV"
      },
      "source": [
        "## Ejercicio 16.c\n",
        "\n",
        "$f(x) = 4x^3 - 3x +1$ tiene una raiz doble. Hallarla usando el metodo de Newton y la versión modificada\n",
        "\n",
        "$$\n",
        "p_{n+1} = p_n -2\\frac{f(p_n)}{f'(p_n)}\n",
        "$$"
      ]
    },
    {
      "cell_type": "code",
      "execution_count": 38,
      "metadata": {
        "id": "HXXtrgKvZPgV"
      },
      "outputs": [],
      "source": [
        "def Newton_multiple_roots(f, fprime, p0, tol, N, m):\n",
        "    \"\"\"\n",
        "    modified version of Newton for roots with multiplicity m\n",
        "    \"\"\"\n",
        "    i = 1\n",
        "    points = [p0]\n",
        "    \n",
        "    while i <= N:\n",
        "        p = p0 - 2*f(p0)/fprime(p0)\n",
        "        points.append(p)\n",
        "        if abs(p-p0) < tol :\n",
        "            return i, p, points\n",
        "            break\n",
        "        \n",
        "        i = i + 1\n",
        "        p0 = p\n",
        "    \n",
        "    \n",
        "\n",
        "    "
      ]
    },
    {
      "cell_type": "code",
      "execution_count": 39,
      "metadata": {
        "id": "c6Ma29-nZPgV"
      },
      "outputs": [],
      "source": [
        "f = lambda x: 4*x**3 - 3*x +1\n",
        "fprime = lambda x: 12*x**2 - 3\n",
        "p0 = 25\n",
        "tol =1e-15\n",
        "N =10"
      ]
    },
    {
      "cell_type": "code",
      "execution_count": 40,
      "metadata": {
        "id": "U2ZgNskPZPgV",
        "outputId": "3c8475c5-2272-4334-a944-d05e39c62862",
        "colab": {
          "base_uri": "https://localhost:8080/"
        }
      },
      "outputs": [
        {
          "output_type": "execute_result",
          "data": {
            "text/plain": [
              "9"
            ]
          },
          "metadata": {},
          "execution_count": 40
        }
      ],
      "source": [
        "pointsN = [p0]\n",
        "for n in range(1,9): \n",
        "    p= NR1(f, fprime, p0, n)\n",
        "    pointsN.append(p)\n",
        "len(pointsN)"
      ]
    },
    {
      "cell_type": "code",
      "execution_count": 41,
      "metadata": {
        "id": "50Rm8oAHZPgV",
        "outputId": "a1ebf6b8-e2a8-4ff5-fb50-566a744a5c3b",
        "colab": {
          "base_uri": "https://localhost:8080/"
        }
      },
      "outputs": [
        {
          "output_type": "execute_result",
          "data": {
            "text/plain": [
              "9"
            ]
          },
          "metadata": {},
          "execution_count": 41
        }
      ],
      "source": [
        "_, _, pointsNm = Newton_multiple_roots(f, fprime, p0, tol, N, 2)\n",
        "len(pointsNm)"
      ]
    },
    {
      "cell_type": "code",
      "execution_count": 42,
      "metadata": {
        "id": "qnJBYr8FZPgV",
        "outputId": "f78d3885-9456-4554-c0ab-24397a15bba5",
        "colab": {
          "base_uri": "https://localhost:8080/",
          "height": 471
        }
      },
      "outputs": [
        {
          "output_type": "execute_result",
          "data": {
            "text/plain": [
              "<matplotlib.legend.Legend at 0x7faf39f1daf0>"
            ]
          },
          "metadata": {},
          "execution_count": 42
        },
        {
          "output_type": "display_data",
          "data": {
            "text/plain": [
              "<Figure size 1400x600 with 1 Axes>"
            ],
            "image/png": "[encoded data removed]"
          },
          "metadata": {
            "needs_background": "light"
          }
        }
      ],
      "source": [
        "plt.figure(figsize = (14,6), dpi = 100)\n",
        "plt.scatter(pointsN, np.zeros(len(pointsN)), marker = '*', label = 'Newton')\n",
        "plt.scatter(pointsNm, np.zeros(len(pointsNm)), marker = '.', label = 'modified Newton')\n",
        "plt.legend()"
      ]
    },
    {
      "cell_type": "code",
      "execution_count": 43,
      "metadata": {
        "id": "NbbjrqxvZPgV",
        "outputId": "cabc40b9-7313-4928-a7fc-6a352806f316",
        "colab": {
          "base_uri": "https://localhost:8080/"
        }
      },
      "outputs": [
        {
          "output_type": "stream",
          "name": "stdout",
          "text": [
            "p_0 de Newton es -->  25\n",
            "\n",
            "\n",
            "p_0 de Newton modificado es -->  25\n",
            "\n",
            "\n",
            "p_1 de Newton es -->  16.673202614379086\n",
            "\n",
            "\n",
            "p_1 de Newton modificado es -->  8.346405228758169\n",
            "\n",
            "\n",
            "p_2 de Newton es -->  11.125173452402422\n",
            "\n",
            "\n",
            "p_2 de Newton modificado es -->  2.8198151649117538\n",
            "\n",
            "\n",
            "p_3 de Newton es -->  7.431119005251591\n",
            "\n",
            "\n",
            "p_3 de Newton modificado es -->  1.040345584721491\n",
            "\n",
            "\n",
            "p_4 de Newton es -->  4.97509360563509\n",
            "\n",
            "\n",
            "p_4 de Newton modificado es -->  0.5631835162671848\n",
            "\n",
            "\n",
            "p_5 de Newton es -->  3.34716995028253\n",
            "\n",
            "\n",
            "p_5 de Newton modificado es -->  0.5012516361370682\n",
            "\n",
            "\n",
            "p_6 de Newton es -->  2.2747685217721463\n",
            "\n",
            "\n",
            "p_6 de Newton modificado es -->  0.5000005215448823\n",
            "\n",
            "\n",
            "p_7 de Newton es -->  1.5765774182707006\n",
            "\n",
            "\n",
            "p_7 de Newton modificado es -->  0.4999999999732743\n",
            "\n",
            "\n",
            "p_8 de Newton es -->  1.131311883336387\n",
            "\n",
            "\n",
            "p_8 de Newton modificado es -->  0.4999999999732743\n",
            "\n",
            "\n"
          ]
        }
      ],
      "source": [
        "for i in range(len(pointsN)):\n",
        "    print('p_' + str(i) + ' de Newton es --> ', pointsN[i])\n",
        "    print('\\n')\n",
        "    print('p_' + str(i) + ' de Newton modificado es --> ', pointsNm[i])\n",
        "    print('\\n')"
      ]
    },
    {
      "cell_type": "code",
      "execution_count": 45,
      "metadata": {
        "id": "mwftrWNoZPgW"
      },
      "outputs": [],
      "source": []
    },
    {
      "cell_type": "code",
      "execution_count": 46,
      "metadata": {
        "id": "tLMOwrR-ZPgW"
      },
      "outputs": [],
      "source": [
        "P0 = np.array([2,1])"
      ]
    },
    {
      "cell_type": "code",
      "execution_count": 48,
      "metadata": {
        "id": "x8zHQhT9ZPgW",
        "outputId": "4574468f-5b44-4c10-ab6b-6816d591831a",
        "colab": {
          "base_uri": "https://localhost:8080/"
        }
      },
      "outputs": [
        {
          "output_type": "execute_result",
          "data": {
            "text/plain": [
              "(8,\n",
              " array([-0.32296206, -0.60843434]),\n",
              " [array([2, 1]),\n",
              "  array([-0.1947395 ,  0.65174101]),\n",
              "  array([-1.05937079,  0.30921676]),\n",
              "  array([-0.42086366, -0.46141412]),\n",
              "  array([-0.2951123 , -0.67019257]),\n",
              "  array([-0.32080592, -0.61427381]),\n",
              "  array([-0.32294243, -0.60849292]),\n",
              "  array([-0.32296206, -0.60843434]),\n",
              "  array([-0.32296206, -0.60843434])])"
            ]
          },
          "metadata": {},
          "execution_count": 48
        }
      ],
      "source": []
    },
    {
      "cell_type": "code",
      "execution_count": 49,
      "metadata": {
        "id": "U7_45-NHZPgW"
      },
      "outputs": [],
      "source": [
        "f = lambda x: x**3 - 2*x + 2\n",
        "fprime = lambda x : 3*x**2 -2\n",
        "p0 = 0\n",
        "tol = 1e-3\n",
        "N =  20\n"
      ]
    },
    {
      "cell_type": "code",
      "source": [],
      "metadata": {
        "id": "hM9he2OtApEo"
      },
      "execution_count": null,
      "outputs": []
    }
  ]
}